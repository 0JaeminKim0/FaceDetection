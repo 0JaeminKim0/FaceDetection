{
 "cells": [
  {
   "cell_type": "code",
   "execution_count": 18,
   "id": "e91281b6",
   "metadata": {},
   "outputs": [
    {
     "name": "stdout",
     "output_type": "stream",
     "text": [
      "4.7.0\n"
     ]
    }
   ],
   "source": [
    "import cv2\n",
    "print(cv2.__version__)"
   ]
  },
  {
   "cell_type": "code",
   "execution_count": 8,
   "id": "423c7466",
   "metadata": {},
   "outputs": [
    {
     "name": "stdout",
     "output_type": "stream",
     "text": [
      "Collecting opencv-contrib-python\n",
      "  Using cached opencv_contrib_python-4.7.0.72-cp37-abi3-win_amd64.whl (44.9 MB)\n",
      "Requirement already satisfied: numpy>=1.19.3 in c:\\users\\jaemi\\anaconda3\\lib\\site-packages (from opencv-contrib-python) (1.23.5)\n",
      "Installing collected packages: opencv-contrib-python\n",
      "Successfully installed opencv-contrib-python-4.7.0.72\n"
     ]
    }
   ],
   "source": [
    "#!pip install opencv-contrib-python --user\n",
    "#!pip install ffmpeg-python"
   ]
  },
  {
   "cell_type": "markdown",
   "id": "494d878f",
   "metadata": {},
   "source": [
    "# OPEN THE USB CAMERA"
   ]
  },
  {
   "cell_type": "code",
   "execution_count": 37,
   "id": "2a147367",
   "metadata": {},
   "outputs": [],
   "source": [
    "def show_camera():\n",
    "    \n",
    "    #Get Camera ID\n",
    "    cam = cv2.VideoCapture(0)\n",
    "    \n",
    "    if (cam.isOpened()):\n",
    "        print(\"Cam has ready\")\n",
    "    else:\n",
    "        print(\"Cam has not ready\")\n",
    "    \n",
    "    #Set Resolution\n",
    "    cam.set(cv2.CAP_PROP_FRAME_WIDTH, 640)\n",
    "    cam.set(cv2.CAP_PROP_FRAME_HEIGHT, 480)\n",
    "    cam.set(cv2.CAP_PROP_FPS, 30)\n",
    "    \n",
    "    print(\"SET RESOULTION\")\n",
    "\n",
    "    window_title = \"USB Camera\"\n",
    "    if cam.isOpened():\n",
    "            try:\n",
    "                window_handle = cv2.namedWindow(\n",
    "                    window_title, cv2.WINDOW_AUTOSIZE )\n",
    "\n",
    "                # Window\n",
    "                while True:\n",
    "                    ret_val, frame = cam.read()\n",
    "                    # Check to see if the user closed the window\n",
    "                    if cv2.getWindowProperty(window_title, cv2.WND_PROP_AUTOSIZE) >= 0:\n",
    "                        cv2.imshow(window_title, frame)\n",
    "                    else:\n",
    "                        break\n",
    "                    keyCode = cv2.waitKey(10) & 0xFF\n",
    "                    # Stop the program on the ESC key or 'q'\n",
    "                    if keyCode == 27 or keyCode == ord('q'):\n",
    "                        break\n",
    "\n",
    "            finally:\n",
    "                cam.release()\n",
    "                cv2.destroyAllWindows()\n",
    "    else:\n",
    "        print(\"Unable to open camera\")"
   ]
  },
  {
   "cell_type": "code",
   "execution_count": 41,
   "id": "5daa4322",
   "metadata": {},
   "outputs": [
    {
     "name": "stdout",
     "output_type": "stream",
     "text": [
      "Cam has ready\n",
      "SET RESOULTION\n"
     ]
    },
    {
     "ename": "error",
     "evalue": "OpenCV(4.7.0) D:\\a\\opencv-python\\opencv-python\\opencv\\modules\\highgui\\src\\window_w32.cpp:837: error: (-27:Null pointer) NULL window: 'USB Camera' in function 'cvGetPropWindowAutoSize_W32'\n",
     "output_type": "error",
     "traceback": [
      "\u001b[1;31m---------------------------------------------------------------------------\u001b[0m",
      "\u001b[1;31merror\u001b[0m                                     Traceback (most recent call last)",
      "Cell \u001b[1;32mIn[41], line 3\u001b[0m\n\u001b[0;32m      1\u001b[0m \u001b[38;5;28;01mif\u001b[39;00m \u001b[38;5;18m__name__\u001b[39m \u001b[38;5;241m==\u001b[39m \u001b[38;5;124m\"\u001b[39m\u001b[38;5;124m__main__\u001b[39m\u001b[38;5;124m\"\u001b[39m:\n\u001b[1;32m----> 3\u001b[0m     \u001b[43mshow_camera\u001b[49m\u001b[43m(\u001b[49m\u001b[43m)\u001b[49m\n",
      "Cell \u001b[1;32mIn[37], line 28\u001b[0m, in \u001b[0;36mshow_camera\u001b[1;34m()\u001b[0m\n\u001b[0;32m     26\u001b[0m ret_val, frame \u001b[38;5;241m=\u001b[39m cam\u001b[38;5;241m.\u001b[39mread()\n\u001b[0;32m     27\u001b[0m \u001b[38;5;66;03m# Check to see if the user closed the window\u001b[39;00m\n\u001b[1;32m---> 28\u001b[0m \u001b[38;5;28;01mif\u001b[39;00m \u001b[43mcv2\u001b[49m\u001b[38;5;241;43m.\u001b[39;49m\u001b[43mgetWindowProperty\u001b[49m\u001b[43m(\u001b[49m\u001b[43mwindow_title\u001b[49m\u001b[43m,\u001b[49m\u001b[43m \u001b[49m\u001b[43mcv2\u001b[49m\u001b[38;5;241;43m.\u001b[39;49m\u001b[43mWND_PROP_AUTOSIZE\u001b[49m\u001b[43m)\u001b[49m \u001b[38;5;241m>\u001b[39m\u001b[38;5;241m=\u001b[39m \u001b[38;5;241m0\u001b[39m:\n\u001b[0;32m     29\u001b[0m     cv2\u001b[38;5;241m.\u001b[39mimshow(window_title, frame)\n\u001b[0;32m     30\u001b[0m \u001b[38;5;28;01melse\u001b[39;00m:\n",
      "\u001b[1;31merror\u001b[0m: OpenCV(4.7.0) D:\\a\\opencv-python\\opencv-python\\opencv\\modules\\highgui\\src\\window_w32.cpp:837: error: (-27:Null pointer) NULL window: 'USB Camera' in function 'cvGetPropWindowAutoSize_W32'\n"
     ]
    }
   ],
   "source": [
    "if __name__ == \"__main__\":\n",
    "\n",
    "    show_camera()"
   ]
  },
  {
   "cell_type": "markdown",
   "id": "cc8dbb55",
   "metadata": {},
   "source": [
    "# INTEGRATE THE DETECTION MODEL\n",
    "- Detecting the face"
   ]
  },
  {
   "cell_type": "code",
   "execution_count": 45,
   "id": "967d977c",
   "metadata": {},
   "outputs": [],
   "source": [
    "# Import library for face detection\n",
    "#!pip install face_recognition\n",
    "import face_recognition\n",
    "import os, sys\n",
    "import numpy as np\n",
    "import math"
   ]
  },
  {
   "cell_type": "code",
   "execution_count": 47,
   "id": "151b1b56",
   "metadata": {},
   "outputs": [],
   "source": [
    "# Helper\n",
    "def face_confidence(face_distance, face_match_threshold=0.6):\n",
    "    range = (1.0 - face_match_threshold)\n",
    "    linear_val = (1.0 - face_distance) / (range * 2.0)\n",
    "\n",
    "    if face_distance > face_match_threshold:\n",
    "        return str(round(linear_val * 100, 2)) + '%'\n",
    "    else:\n",
    "        value = (linear_val + ((1.0 - linear_val) * math.pow((linear_val - 0.5) * 2, 0.2))) * 100\n",
    "        return str(round(value, 2)) + '%'\n",
    "\n",
    "\n",
    "class FaceRecognition:\n",
    "    face_locations = []\n",
    "    face_encodings = []\n",
    "    face_names = []\n",
    "    known_face_encodings = []\n",
    "    known_face_names = []\n",
    "    process_current_frame = True\n",
    "\n",
    "    def __init__(self):\n",
    "        self.encode_faces()\n",
    "\n",
    "    def encode_faces(self):\n",
    "        for image in os.listdir('faces'):\n",
    "            face_image = face_recognition.load_image_file(f\"faces/{image}\")\n",
    "            face_encoding = face_recognition.face_encodings(face_image)[0]\n",
    "\n",
    "            self.known_face_encodings.append(face_encoding)\n",
    "            self.known_face_names.append(image)\n",
    "        print(self.known_face_names)\n",
    "\n",
    "    def run_recognition(self):\n",
    "        video_capture = cv2.VideoCapture(0)\n",
    "\n",
    "        if not video_capture.isOpened():\n",
    "            sys.exit('Video source not found...')\n",
    "\n",
    "        while True:\n",
    "            ret, frame = video_capture.read()\n",
    "\n",
    "            # Only process every other frame of video to save time\n",
    "            if self.process_current_frame:\n",
    "                # Resize frame of video to 1/4 size for faster face recognition processing\n",
    "                small_frame = cv2.resize(frame, (0, 0), fx=0.25, fy=0.25)\n",
    "\n",
    "                # Convert the image from BGR color (which OpenCV uses) to RGB color (which face_recognition uses)\n",
    "                rgb_small_frame = small_frame[:, :, ::-1]\n",
    "\n",
    "                # Find all the faces and face encodings in the current frame of video\n",
    "                self.face_locations = face_recognition.face_locations(rgb_small_frame)\n",
    "                self.face_encodings = face_recognition.face_encodings(rgb_small_frame, self.face_locations)\n",
    "\n",
    "                self.face_names = []\n",
    "                for face_encoding in self.face_encodings:\n",
    "                    # See if the face is a match for the known face(s)\n",
    "                    matches = face_recognition.compare_faces(self.known_face_encodings, face_encoding)\n",
    "                    name = \"Not Defined\"\n",
    "                    confidence = ''\n",
    "\n",
    "                    # Calculate the shortest distance to face\n",
    "                    face_distances = face_recognition.face_distance(self.known_face_encodings, face_encoding)\n",
    "\n",
    "                    best_match_index = np.argmin(face_distances)\n",
    "                    if matches[best_match_index]:\n",
    "                        name = self.known_face_names[best_match_index]\n",
    "                        confidence = face_confidence(face_distances[best_match_index])\n",
    "\n",
    "                    self.face_names.append(f'{name} ({confidence})')\n",
    "\n",
    "            self.process_current_frame = not self.process_current_frame\n",
    "\n",
    "            # Display the results\n",
    "            for (top, right, bottom, left), name in zip(self.face_locations, self.face_names):\n",
    "                # Scale back up face locations since the frame we detected in was scaled to 1/4 size\n",
    "                top *= 4\n",
    "                right *= 4\n",
    "                bottom *= 4\n",
    "                left *= 4\n",
    "\n",
    "                # Create the frame with the name\n",
    "                cv2.rectangle(frame, (left, top), (right, bottom), (0, 0, 255), 2)\n",
    "                cv2.rectangle(frame, (left, bottom - 35), (right, bottom), (0, 0, 255), cv2.FILLED)\n",
    "                cv2.putText(frame, name, (left + 6, bottom - 6), cv2.FONT_HERSHEY_DUPLEX, 0.8, (255, 255, 255), 1)\n",
    "\n",
    "            # Display the resulting image\n",
    "            cv2.imshow('Face Recognition', frame)\n",
    "\n",
    "            # Hit 'q' on the keyboard to quit!\n",
    "            if cv2.waitKey(1) == ord('q'):\n",
    "                break\n",
    "\n",
    "        # Release handle to the webcam\n",
    "        video_capture.release()\n",
    "        cv2.destroyAllWindows()"
   ]
  },
  {
   "cell_type": "code",
   "execution_count": 48,
   "id": "acbab051",
   "metadata": {},
   "outputs": [
    {
     "ename": "FileNotFoundError",
     "evalue": "[WinError 3] 지정된 경로를 찾을 수 없습니다: 'faces'",
     "output_type": "error",
     "traceback": [
      "\u001b[1;31m---------------------------------------------------------------------------\u001b[0m",
      "\u001b[1;31mFileNotFoundError\u001b[0m                         Traceback (most recent call last)",
      "Cell \u001b[1;32mIn[48], line 2\u001b[0m\n\u001b[0;32m      1\u001b[0m \u001b[38;5;28;01mif\u001b[39;00m \u001b[38;5;18m__name__\u001b[39m \u001b[38;5;241m==\u001b[39m \u001b[38;5;124m'\u001b[39m\u001b[38;5;124m__main__\u001b[39m\u001b[38;5;124m'\u001b[39m:\n\u001b[1;32m----> 2\u001b[0m     fr \u001b[38;5;241m=\u001b[39m \u001b[43mFaceRecognition\u001b[49m\u001b[43m(\u001b[49m\u001b[43m)\u001b[49m\n\u001b[0;32m      3\u001b[0m     fr\u001b[38;5;241m.\u001b[39mrun_recognition()\n",
      "Cell \u001b[1;32mIn[47], line 22\u001b[0m, in \u001b[0;36mFaceRecognition.__init__\u001b[1;34m(self)\u001b[0m\n\u001b[0;32m     21\u001b[0m \u001b[38;5;28;01mdef\u001b[39;00m \u001b[38;5;21m__init__\u001b[39m(\u001b[38;5;28mself\u001b[39m):\n\u001b[1;32m---> 22\u001b[0m     \u001b[38;5;28;43mself\u001b[39;49m\u001b[38;5;241;43m.\u001b[39;49m\u001b[43mencode_faces\u001b[49m\u001b[43m(\u001b[49m\u001b[43m)\u001b[49m\n",
      "Cell \u001b[1;32mIn[47], line 25\u001b[0m, in \u001b[0;36mFaceRecognition.encode_faces\u001b[1;34m(self)\u001b[0m\n\u001b[0;32m     24\u001b[0m \u001b[38;5;28;01mdef\u001b[39;00m \u001b[38;5;21mencode_faces\u001b[39m(\u001b[38;5;28mself\u001b[39m):\n\u001b[1;32m---> 25\u001b[0m     \u001b[38;5;28;01mfor\u001b[39;00m image \u001b[38;5;129;01min\u001b[39;00m \u001b[43mos\u001b[49m\u001b[38;5;241;43m.\u001b[39;49m\u001b[43mlistdir\u001b[49m\u001b[43m(\u001b[49m\u001b[38;5;124;43m'\u001b[39;49m\u001b[38;5;124;43mfaces\u001b[39;49m\u001b[38;5;124;43m'\u001b[39;49m\u001b[43m)\u001b[49m:\n\u001b[0;32m     26\u001b[0m         face_image \u001b[38;5;241m=\u001b[39m face_recognition\u001b[38;5;241m.\u001b[39mload_image_file(\u001b[38;5;124mf\u001b[39m\u001b[38;5;124m\"\u001b[39m\u001b[38;5;124mfaces/\u001b[39m\u001b[38;5;132;01m{\u001b[39;00mimage\u001b[38;5;132;01m}\u001b[39;00m\u001b[38;5;124m\"\u001b[39m)\n\u001b[0;32m     27\u001b[0m         face_encoding \u001b[38;5;241m=\u001b[39m face_recognition\u001b[38;5;241m.\u001b[39mface_encodings(face_image)[\u001b[38;5;241m0\u001b[39m]\n",
      "\u001b[1;31mFileNotFoundError\u001b[0m: [WinError 3] 지정된 경로를 찾을 수 없습니다: 'faces'"
     ]
    }
   ],
   "source": [
    "if __name__ == '__main__':\n",
    "    fr = FaceRecognition()\n",
    "    fr.run_recognition()"
   ]
  },
  {
   "cell_type": "code",
   "execution_count": null,
   "id": "cf9240f2",
   "metadata": {},
   "outputs": [],
   "source": []
  },
  {
   "cell_type": "code",
   "execution_count": null,
   "id": "f5345be5",
   "metadata": {},
   "outputs": [],
   "source": []
  },
  {
   "cell_type": "code",
   "execution_count": null,
   "id": "1a4a9a36",
   "metadata": {},
   "outputs": [],
   "source": []
  },
  {
   "cell_type": "code",
   "execution_count": null,
   "id": "7302d72e",
   "metadata": {},
   "outputs": [],
   "source": []
  }
 ],
 "metadata": {
  "kernelspec": {
   "display_name": "Python 3 (ipykernel)",
   "language": "python",
   "name": "python3"
  },
  "language_info": {
   "codemirror_mode": {
    "name": "ipython",
    "version": 3
   },
   "file_extension": ".py",
   "mimetype": "text/x-python",
   "name": "python",
   "nbconvert_exporter": "python",
   "pygments_lexer": "ipython3",
   "version": "3.10.9"
  }
 },
 "nbformat": 4,
 "nbformat_minor": 5
}
